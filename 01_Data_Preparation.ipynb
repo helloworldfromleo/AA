{
 "cells": [
  {
   "cell_type": "markdown",
   "metadata": {},
   "source": [
    "# GROUP 7 - Analytics and Applications"
   ]
  },
  {
   "cell_type": "markdown",
   "metadata": {},
   "source": [
    "### Import of libraries"
   ]
  },
  {
   "cell_type": "code",
   "execution_count": 34,
   "metadata": {},
   "outputs": [],
   "source": [
    "import numpy as np \n",
    "import matplotlib.pyplot as plt     \n",
    "import pandas as pd \n",
    "import seaborn as sns\n",
    "import ast"
   ]
  },
  {
   "cell_type": "code",
   "execution_count": 35,
   "metadata": {},
   "outputs": [
    {
     "data": {
      "text/html": [
       "<div>\n",
       "<style scoped>\n",
       "    .dataframe tbody tr th:only-of-type {\n",
       "        vertical-align: middle;\n",
       "    }\n",
       "\n",
       "    .dataframe tbody tr th {\n",
       "        vertical-align: top;\n",
       "    }\n",
       "\n",
       "    .dataframe thead th {\n",
       "        text-align: right;\n",
       "    }\n",
       "</style>\n",
       "<table border=\"1\" class=\"dataframe\">\n",
       "  <thead>\n",
       "    <tr style=\"text-align: right;\">\n",
       "      <th></th>\n",
       "      <th>Unnamed: 0</th>\n",
       "      <th>id</th>\n",
       "      <th>connectionTime</th>\n",
       "      <th>disconnectTime</th>\n",
       "      <th>doneChargingTime</th>\n",
       "      <th>kWhDelivered</th>\n",
       "      <th>sessionID</th>\n",
       "      <th>siteID</th>\n",
       "      <th>spaceID</th>\n",
       "      <th>stationID</th>\n",
       "      <th>timezone</th>\n",
       "      <th>userID</th>\n",
       "      <th>userInputs</th>\n",
       "    </tr>\n",
       "  </thead>\n",
       "  <tbody>\n",
       "    <tr>\n",
       "      <th>0</th>\n",
       "      <td>0</td>\n",
       "      <td>5e23b149f9af8b5fe4b973cf</td>\n",
       "      <td>2020-01-02 13:08:54+00:00</td>\n",
       "      <td>2020-01-02 19:11:15+00:00</td>\n",
       "      <td>2020-01-02 17:31:35+00:00</td>\n",
       "      <td>25.016</td>\n",
       "      <td>1_1_179_810_2020-01-02 13:08:53.870034</td>\n",
       "      <td>1</td>\n",
       "      <td>AG-3F30</td>\n",
       "      <td>1-1-179-810</td>\n",
       "      <td>America/Los_Angeles</td>\n",
       "      <td>194.0</td>\n",
       "      <td>[{'WhPerMile': 250, 'kWhRequested': 25.0, 'mil...</td>\n",
       "    </tr>\n",
       "    <tr>\n",
       "      <th>1</th>\n",
       "      <td>1</td>\n",
       "      <td>5e23b149f9af8b5fe4b973d0</td>\n",
       "      <td>2020-01-02 13:36:50+00:00</td>\n",
       "      <td>2020-01-02 22:38:21+00:00</td>\n",
       "      <td>2020-01-02 20:18:05+00:00</td>\n",
       "      <td>33.097</td>\n",
       "      <td>1_1_193_825_2020-01-02 13:36:49.599853</td>\n",
       "      <td>1</td>\n",
       "      <td>AG-1F01</td>\n",
       "      <td>1-1-193-825</td>\n",
       "      <td>America/Los_Angeles</td>\n",
       "      <td>4275.0</td>\n",
       "      <td>[{'WhPerMile': 280, 'kWhRequested': 70.0, 'mil...</td>\n",
       "    </tr>\n",
       "    <tr>\n",
       "      <th>2</th>\n",
       "      <td>2</td>\n",
       "      <td>5e23b149f9af8b5fe4b973d1</td>\n",
       "      <td>2020-01-02 13:56:35+00:00</td>\n",
       "      <td>2020-01-03 00:39:22+00:00</td>\n",
       "      <td>2020-01-02 16:35:06+00:00</td>\n",
       "      <td>6.521</td>\n",
       "      <td>1_1_193_829_2020-01-02 13:56:35.214993</td>\n",
       "      <td>1</td>\n",
       "      <td>AG-1F03</td>\n",
       "      <td>1-1-193-829</td>\n",
       "      <td>America/Los_Angeles</td>\n",
       "      <td>344.0</td>\n",
       "      <td>[{'WhPerMile': 400, 'kWhRequested': 8.0, 'mile...</td>\n",
       "    </tr>\n",
       "    <tr>\n",
       "      <th>3</th>\n",
       "      <td>3</td>\n",
       "      <td>5e23b149f9af8b5fe4b973d2</td>\n",
       "      <td>2020-01-02 13:59:58+00:00</td>\n",
       "      <td>2020-01-02 16:38:39+00:00</td>\n",
       "      <td>2020-01-02 15:18:45+00:00</td>\n",
       "      <td>2.355</td>\n",
       "      <td>1_1_193_820_2020-01-02 13:59:58.309319</td>\n",
       "      <td>1</td>\n",
       "      <td>AG-1F04</td>\n",
       "      <td>1-1-193-820</td>\n",
       "      <td>America/Los_Angeles</td>\n",
       "      <td>1117.0</td>\n",
       "      <td>[{'WhPerMile': 400, 'kWhRequested': 8.0, 'mile...</td>\n",
       "    </tr>\n",
       "    <tr>\n",
       "      <th>4</th>\n",
       "      <td>4</td>\n",
       "      <td>5e23b149f9af8b5fe4b973d3</td>\n",
       "      <td>2020-01-02 14:00:01+00:00</td>\n",
       "      <td>2020-01-02 22:08:40+00:00</td>\n",
       "      <td>2020-01-02 18:17:30+00:00</td>\n",
       "      <td>13.375</td>\n",
       "      <td>1_1_193_819_2020-01-02 14:00:00.779967</td>\n",
       "      <td>1</td>\n",
       "      <td>AG-1F06</td>\n",
       "      <td>1-1-193-819</td>\n",
       "      <td>America/Los_Angeles</td>\n",
       "      <td>334.0</td>\n",
       "      <td>[{'WhPerMile': 400, 'kWhRequested': 16.0, 'mil...</td>\n",
       "    </tr>\n",
       "  </tbody>\n",
       "</table>\n",
       "</div>"
      ],
      "text/plain": [
       "   Unnamed: 0                        id             connectionTime  \\\n",
       "0           0  5e23b149f9af8b5fe4b973cf  2020-01-02 13:08:54+00:00   \n",
       "1           1  5e23b149f9af8b5fe4b973d0  2020-01-02 13:36:50+00:00   \n",
       "2           2  5e23b149f9af8b5fe4b973d1  2020-01-02 13:56:35+00:00   \n",
       "3           3  5e23b149f9af8b5fe4b973d2  2020-01-02 13:59:58+00:00   \n",
       "4           4  5e23b149f9af8b5fe4b973d3  2020-01-02 14:00:01+00:00   \n",
       "\n",
       "              disconnectTime           doneChargingTime  kWhDelivered  \\\n",
       "0  2020-01-02 19:11:15+00:00  2020-01-02 17:31:35+00:00        25.016   \n",
       "1  2020-01-02 22:38:21+00:00  2020-01-02 20:18:05+00:00        33.097   \n",
       "2  2020-01-03 00:39:22+00:00  2020-01-02 16:35:06+00:00         6.521   \n",
       "3  2020-01-02 16:38:39+00:00  2020-01-02 15:18:45+00:00         2.355   \n",
       "4  2020-01-02 22:08:40+00:00  2020-01-02 18:17:30+00:00        13.375   \n",
       "\n",
       "                                sessionID  siteID  spaceID    stationID  \\\n",
       "0  1_1_179_810_2020-01-02 13:08:53.870034       1  AG-3F30  1-1-179-810   \n",
       "1  1_1_193_825_2020-01-02 13:36:49.599853       1  AG-1F01  1-1-193-825   \n",
       "2  1_1_193_829_2020-01-02 13:56:35.214993       1  AG-1F03  1-1-193-829   \n",
       "3  1_1_193_820_2020-01-02 13:59:58.309319       1  AG-1F04  1-1-193-820   \n",
       "4  1_1_193_819_2020-01-02 14:00:00.779967       1  AG-1F06  1-1-193-819   \n",
       "\n",
       "              timezone  userID  \\\n",
       "0  America/Los_Angeles   194.0   \n",
       "1  America/Los_Angeles  4275.0   \n",
       "2  America/Los_Angeles   344.0   \n",
       "3  America/Los_Angeles  1117.0   \n",
       "4  America/Los_Angeles   334.0   \n",
       "\n",
       "                                          userInputs  \n",
       "0  [{'WhPerMile': 250, 'kWhRequested': 25.0, 'mil...  \n",
       "1  [{'WhPerMile': 280, 'kWhRequested': 70.0, 'mil...  \n",
       "2  [{'WhPerMile': 400, 'kWhRequested': 8.0, 'mile...  \n",
       "3  [{'WhPerMile': 400, 'kWhRequested': 8.0, 'mile...  \n",
       "4  [{'WhPerMile': 400, 'kWhRequested': 16.0, 'mil...  "
      ]
     },
     "execution_count": 35,
     "metadata": {},
     "output_type": "execute_result"
    }
   ],
   "source": [
    "df = pd.read_csv(\"./Data/charging_sessions.csv\")\n",
    "df.head()"
   ]
  },
  {
   "cell_type": "code",
   "execution_count": 36,
   "metadata": {},
   "outputs": [
    {
     "name": "stdout",
     "output_type": "stream",
     "text": [
      "<class 'pandas.core.frame.DataFrame'>\n",
      "RangeIndex: 66450 entries, 0 to 66449\n",
      "Data columns (total 13 columns):\n",
      " #   Column            Non-Null Count  Dtype  \n",
      "---  ------            --------------  -----  \n",
      " 0   Unnamed: 0        66450 non-null  int64  \n",
      " 1   id                66450 non-null  object \n",
      " 2   connectionTime    66450 non-null  object \n",
      " 3   disconnectTime    66450 non-null  object \n",
      " 4   doneChargingTime  62362 non-null  object \n",
      " 5   kWhDelivered      66450 non-null  float64\n",
      " 6   sessionID         66450 non-null  object \n",
      " 7   siteID            66450 non-null  int64  \n",
      " 8   spaceID           66450 non-null  object \n",
      " 9   stationID         66450 non-null  object \n",
      " 10  timezone          66450 non-null  object \n",
      " 11  userID            49187 non-null  float64\n",
      " 12  userInputs        49187 non-null  object \n",
      "dtypes: float64(2), int64(2), object(9)\n",
      "memory usage: 6.6+ MB\n"
     ]
    }
   ],
   "source": [
    "df.info()"
   ]
  },
  {
   "cell_type": "code",
   "execution_count": 37,
   "metadata": {},
   "outputs": [
    {
     "name": "stdout",
     "output_type": "stream",
     "text": [
      "Unnamed: 0              0\n",
      "id                      0\n",
      "connectionTime          0\n",
      "disconnectTime          0\n",
      "doneChargingTime     4088\n",
      "kWhDelivered            0\n",
      "sessionID               0\n",
      "siteID                  0\n",
      "spaceID                 0\n",
      "stationID               0\n",
      "timezone                0\n",
      "userID              17263\n",
      "userInputs          17263\n",
      "dtype: int64\n"
     ]
    }
   ],
   "source": [
    "print(df.isnull().sum())"
   ]
  },
  {
   "cell_type": "markdown",
   "metadata": {},
   "source": [
    "Finding: The columns doneChargingTime, userID, and userInputs have missing values."
   ]
  },
  {
   "cell_type": "code",
   "execution_count": 38,
   "metadata": {},
   "outputs": [
    {
     "name": "stdout",
     "output_type": "stream",
     "text": [
      "0\n"
     ]
    }
   ],
   "source": [
    "# Check for duplicates\n",
    "print(df.duplicated().sum())\n"
   ]
  },
  {
   "cell_type": "markdown",
   "metadata": {},
   "source": [
    "Finding: There are no duplicates"
   ]
  },
  {
   "cell_type": "code",
   "execution_count": 39,
   "metadata": {},
   "outputs": [
    {
     "name": "stdout",
     "output_type": "stream",
     "text": [
      "Empty DataFrame\n",
      "Columns: [Unnamed: 0, id, connectionTime, disconnectTime, doneChargingTime, kWhDelivered, sessionID, siteID, spaceID, stationID, timezone, userID, userInputs]\n",
      "Index: []\n"
     ]
    },
    {
     "data": {
      "text/plain": [
       "(None,)"
      ]
     },
     "execution_count": 39,
     "metadata": {},
     "output_type": "execute_result"
    }
   ],
   "source": [
    "# Check for invalid values\n",
    "print(df[df['kWhDelivered'] < 0]),       "
   ]
  },
  {
   "cell_type": "markdown",
   "metadata": {},
   "source": [
    "Finding: There are no values with kWhDelivered < 0"
   ]
  },
  {
   "cell_type": "markdown",
   "metadata": {},
   "source": [
    "# Data Cleaning\n"
   ]
  },
  {
   "cell_type": "markdown",
   "metadata": {},
   "source": [
    "### Remove the column \"Unnamed: 0\" \n",
    "The column has 66450 empty values. This is equivalent to the amount of rows of the dataset, therefore it does not provide any value and can be removed. "
   ]
  },
  {
   "cell_type": "code",
   "execution_count": 40,
   "metadata": {},
   "outputs": [],
   "source": [
    "df.drop(columns=['Unnamed: 0'], inplace=True)"
   ]
  },
  {
   "cell_type": "markdown",
   "metadata": {},
   "source": [
    "### Replace \"userID\" na values with -1\n",
    "There are 17263 data points with userID = na. Since this is a significant amount, removing the affected rows is not an option. \n",
    "To allow for further analysis in the upcoming milestones, it therefore makes sense to use a placeholder value."
   ]
  },
  {
   "cell_type": "code",
   "execution_count": 41,
   "metadata": {},
   "outputs": [
    {
     "name": "stderr",
     "output_type": "stream",
     "text": [
      "C:\\Users\\Leonard\\AppData\\Local\\Temp\\ipykernel_4832\\3019672295.py:1: FutureWarning: A value is trying to be set on a copy of a DataFrame or Series through chained assignment using an inplace method.\n",
      "The behavior will change in pandas 3.0. This inplace method will never work because the intermediate object on which we are setting values always behaves as a copy.\n",
      "\n",
      "For example, when doing 'df[col].method(value, inplace=True)', try using 'df.method({col: value}, inplace=True)' or df[col] = df[col].method(value) instead, to perform the operation inplace on the original object.\n",
      "\n",
      "\n",
      "  df['userID'].fillna(-1, inplace=True)\n"
     ]
    }
   ],
   "source": [
    "df['userID'].fillna(-1, inplace=True)"
   ]
  },
  {
   "cell_type": "markdown",
   "metadata": {},
   "source": [
    "### Remove \"doneChargingTime\" na values \n",
    "There are 4088 data points with doneChargingTime = na. \n",
    "Interpolation is not an option at this point, since it is very difficult to interpolate values for a metric that is dependent from connectionTime. By trying to estimate the doneChargingTime for missing entries based on the connectionTime of this entry and the average time of other loading processes, we could manipulate the dataset, because the battery could have different states of charge at the start of charging."
   ]
  },
  {
   "cell_type": "code",
   "execution_count": 42,
   "metadata": {},
   "outputs": [],
   "source": [
    "df.dropna(subset=['doneChargingTime'], inplace=True)"
   ]
  },
  {
   "cell_type": "markdown",
   "metadata": {},
   "source": [
    "### Remove the column \"timezone\"\n",
    "Every timezone is set to \"America/Los_Angeles\", therefore it does not provide any value for further analysis and can be removed. "
   ]
  },
  {
   "cell_type": "code",
   "execution_count": 43,
   "metadata": {},
   "outputs": [],
   "source": [
    "df.drop(columns=['timezone'], inplace=True)"
   ]
  },
  {
   "cell_type": "markdown",
   "metadata": {},
   "source": [
    "### Split UserInput to multiple features\n",
    "The values of userInputs include valuable insides which can be relevant for further analysis. \n",
    "To ease the analysis later, we created coumns for the features within the userInputs string. "
   ]
  },
  {
   "cell_type": "code",
   "execution_count": 44,
   "metadata": {},
   "outputs": [],
   "source": [
    "\n",
    "#Function to parse 'userInputs' & extract the first dictionary\n",
    "def parse_user_inputs(row):\n",
    "    try:\n",
    "        parsed = ast.literal_eval(row) if pd.notnull(row) else []\n",
    "        return parsed[0] if isinstance(parsed, list) and len(parsed) > 0 else {}\n",
    "    except (ValueError, SyntaxError):\n",
    "        return {}\n",
    "\n",
    "#Parse 'userInputs' column\n",
    "df['userInputs'] = df['userInputs'].apply(parse_user_inputs)\n",
    "\n",
    "#Specify desired features\n",
    "desired_features = [\n",
    "    'WhPerMile', 'kWhRequested', 'milesRequested', \n",
    "    'minutesAvailable', 'modifiedAt', 'paymentRequired', \n",
    "    'requestedDeparture'\n",
    "]\n",
    "\n",
    "#Extract desired features and create new columns\n",
    "for feature in desired_features:\n",
    "    df[feature] = df['userInputs'].apply(lambda x: x.get(feature) if isinstance(x, dict) else None)\n",
    "\n",
    "#Drop the 'userInputs' column since it is no longer needed\n",
    "df = df.drop(columns=['userInputs'])\n",
    "\n"
   ]
  },
  {
   "cell_type": "markdown",
   "metadata": {},
   "source": [
    "## Convert time metrices and calculate hours \n",
    "For further analysis it is easier to work with dateTime objects. Also it is necessary to calculate the hours."
   ]
  },
  {
   "cell_type": "code",
   "execution_count": 45,
   "metadata": {},
   "outputs": [],
   "source": [
    "\n",
    "df['connectionTime'] = pd.to_datetime(df['connectionTime'])\n",
    "df['disconnectTime'] = pd.to_datetime(df['disconnectTime'])\n",
    "df['doneChargingTime'] = pd.to_datetime(df['doneChargingTime'])\n",
    "\n",
    "#Calculate durations in hours\n",
    "df['charging_duration'] = (df['doneChargingTime'] - df['connectionTime']).dt.total_seconds() / 3600\n",
    "df['session_duration'] = (df['disconnectTime'] - df['connectionTime']).dt.total_seconds() / 3600"
   ]
  },
  {
   "cell_type": "code",
   "execution_count": 46,
   "metadata": {},
   "outputs": [
    {
     "name": "stdout",
     "output_type": "stream",
     "text": [
      "<class 'pandas.core.frame.DataFrame'>\n",
      "Index: 62362 entries, 0 to 66449\n",
      "Data columns (total 19 columns):\n",
      " #   Column              Non-Null Count  Dtype              \n",
      "---  ------              --------------  -----              \n",
      " 0   id                  62362 non-null  object             \n",
      " 1   connectionTime      62362 non-null  datetime64[ns, UTC]\n",
      " 2   disconnectTime      62362 non-null  datetime64[ns, UTC]\n",
      " 3   doneChargingTime    62362 non-null  datetime64[ns, UTC]\n",
      " 4   kWhDelivered        62362 non-null  float64            \n",
      " 5   sessionID           62362 non-null  object             \n",
      " 6   siteID              62362 non-null  int64              \n",
      " 7   spaceID             62362 non-null  object             \n",
      " 8   stationID           62362 non-null  object             \n",
      " 9   userID              62362 non-null  float64            \n",
      " 10  WhPerMile           46008 non-null  float64            \n",
      " 11  kWhRequested        46008 non-null  float64            \n",
      " 12  milesRequested      46008 non-null  float64            \n",
      " 13  minutesAvailable    46008 non-null  float64            \n",
      " 14  modifiedAt          46008 non-null  object             \n",
      " 15  paymentRequired     46008 non-null  object             \n",
      " 16  requestedDeparture  46008 non-null  object             \n",
      " 17  charging_duration   62362 non-null  float64            \n",
      " 18  session_duration    62362 non-null  float64            \n",
      "dtypes: datetime64[ns, UTC](3), float64(8), int64(1), object(7)\n",
      "memory usage: 9.5+ MB\n"
     ]
    },
    {
     "data": {
      "text/plain": [
       "0"
      ]
     },
     "execution_count": 46,
     "metadata": {},
     "output_type": "execute_result"
    }
   ],
   "source": [
    "df.head()\n",
    "df.info()\n",
    "df[\"connectionTime\"].isna().sum()"
   ]
  },
  {
   "cell_type": "markdown",
   "metadata": {},
   "source": [
    "# Uncover relationships and outliers"
   ]
  },
  {
   "cell_type": "code",
   "execution_count": null,
   "metadata": {},
   "outputs": [
    {
     "data": {
      "image/png": "[encoded data removed]",
      "text/plain": [
       "<Figure size 1500x1000 with 1 Axes>"
      ]
     },
     "metadata": {},
     "output_type": "display_data"
    }
   ],
   "source": [
    "# List of columns to check for outliers\n",
    "columns_to_check = [\n",
    "    'kWhDelivered', 'WhPerMile', 'kWhRequested', \n",
    "    'milesRequested', 'minutesAvailable', 'charging_duration', 'session_duration'\n",
    "]\n",
    "\n",
    "# Remove one datapoint that is a strong outlier\n",
    "df = df[df['minutesAvailable'] <= 8000]\n",
    "\n",
    "# Create a boxplot for the specified features\n",
    "plt.figure(figsize=(15, 10))\n",
    "sns.boxplot(data=df[columns_to_check])\n",
    "plt.title('Boxplot of Selected Features')\n",
    "plt.xticks(rotation=45)\n",
    "plt.show()\n",
    "\n",
    "\n",
    "\n"
   ]
  },
  {
   "cell_type": "markdown",
   "metadata": {},
   "source": [
    "with one exeption there are no strong outliers in the data as seen in the boxplot visualizations and the models can deal with some outlieres. Therefor we do not need more deletion of outliers"
   ]
  },
  {
   "cell_type": "markdown",
   "metadata": {},
   "source": [
    "To uncover as many relationships in the dataset as possible and get awareness of outliers, we use a pairplot. We intentionally excluded time-based features, categorical data, and unique identifiers, as they are not continuous numerical variables and would not contribute meaningful patterns to the pair plot analysis."
   ]
  },
  {
   "cell_type": "code",
   "execution_count": null,
   "metadata": {},
   "outputs": [],
   "source": [
    "columns_for_pairplot = [\n",
    "    'kWhDelivered', 'WhPerMile', 'kWhRequested', \n",
    "    'milesRequested', 'minutesAvailable', 'charging_duration', 'session_duration'\n",
    "]\n",
    "\n",
    "sns.pairplot(df[columns_for_pairplot])\n",
    "plt.suptitle('Pairplot of Selected Features', y=1.02)\n",
    "plt.show()"
   ]
  },
  {
   "cell_type": "code",
   "execution_count": null,
   "metadata": {},
   "outputs": [],
   "source": [
    "# Corr. matrix\n",
    "numeric_df = df[columns_for_pairplot].select_dtypes(include=['float64', 'int64'])\n",
    "\n",
    "corr_matrix = numeric_df.corr()\n",
    "\n",
    "plt.figure(figsize=(12, 8))\n",
    "sns.heatmap(corr_matrix, annot=True, fmt=\".2f\", cmap=\"coolwarm\", cbar=True)\n",
    "plt.title(\"Correlation Matrix Heatmap\")\n",
    "plt.show()"
   ]
  },
  {
   "cell_type": "markdown",
   "metadata": {},
   "source": [
    "The correlation matrix heatmap shows a strong positive correlation between kWhRequested and milesRequested (0.88), indicating that the amount of energy requested is closely related to the distance requested. Longer trips generally require more energy, and users who travel more kilometers tend to request more kWh.\n",
    "\n",
    "Similarly, kWhDelivered and milesRequested (0.68) show that as distance increases, energy delivered also increases, showing the direct relationship between distance and energy demand. Users who want to cover a longer distance naturally require more energy for their journey, which leads to a higher delivered kWh.\n",
    "\n",
    "The correlation between kWh delivered and kWh demanded (0.61) suggests that the energy delivered generally matches the energy demanded, although there may be some variation due to factors such as charging efficiency. In most cases, the amount of energy requested and the amount of energy supplied match accurately."
   ]
  },
  {
   "cell_type": "markdown",
   "metadata": {},
   "source": [
    "# Task 2"
   ]
  },
  {
   "cell_type": "markdown",
   "metadata": {},
   "source": [
    "## A)"
   ]
  },
  {
   "cell_type": "code",
   "execution_count": 87,
   "metadata": {},
   "outputs": [],
   "source": [
    "#Hour of Day\n",
    "df[\"hour\"] = df['connectionTime'].dt.hour\n",
    "\n",
    "#Day of Week (Monday=0, Sunday=6)\n",
    "df[\"dayOfWeek\"] = df['connectionTime'].dt.dayofweek\n",
    "\n",
    "#Month\n",
    "df[\"month\"] = df['connectionTime'].dt.month\n",
    "\n",
    "#Season\n",
    "def get_season(month):\n",
    "    if month in [12, 1, 2]:\n",
    "        return 'Winter'\n",
    "    elif month in [3, 4, 5]:\n",
    "        return 'Spring'\n",
    "    elif month in [6, 7, 8]:\n",
    "        return 'Summer'\n",
    "    else:\n",
    "        return 'Fall'\n",
    "\n",
    "df[\"season\"] = df['month'].apply(get_season)\n",
    "hourly_counts = df.groupby('hour').size().reset_index(name='Charging Events')"
   ]
  },
  {
   "cell_type": "code",
   "execution_count": null,
   "metadata": {},
   "outputs": [],
   "source": [
    "plt.figure(figsize=(12, 6))\n",
    "sns.barplot(x='hour', y='Charging Events', data=hourly_counts, palette='Blues_d')\n",
    "plt.title('Number of Charging Events by Hour of Day')\n",
    "plt.xlabel('Hour of Day')\n",
    "plt.ylabel('Number of Charging Events')\n",
    "plt.xticks(range(0, 24))\n",
    "plt.show()"
   ]
  },
  {
   "cell_type": "markdown",
   "metadata": {},
   "source": [
    "### Mapping day numbers to names"
   ]
  },
  {
   "cell_type": "code",
   "execution_count": 89,
   "metadata": {},
   "outputs": [],
   "source": [
    "day_names = {0: 'Monday', 1: 'Tuesday', 2: 'Wednesday', 3: 'Thursday',\n",
    "             4: 'Friday', 5: 'Saturday', 6: 'Sunday'}\n",
    "\n",
    "df['dayName'] = df['dayOfWeek'].map(day_names)\n",
    "\n",
    "weekly_counts = df.groupby('dayName').size().reset_index(name='Charging Events')"
   ]
  },
  {
   "cell_type": "markdown",
   "metadata": {},
   "source": [
    "### Ensure the days are in the correct order"
   ]
  },
  {
   "cell_type": "code",
   "execution_count": null,
   "metadata": {},
   "outputs": [],
   "source": [
    "order = ['Monday', 'Tuesday', 'Wednesday', 'Thursday', 'Friday', 'Saturday', 'Sunday']\n",
    "weekly_counts['dayName'] = pd.Categorical(weekly_counts['dayName'], categories=order, ordered=True)\n",
    "weekly_counts = weekly_counts.sort_values('dayName')\n",
    "\n",
    "plt.figure(figsize=(10, 6))\n",
    "sns.barplot(x='dayName', y='Charging Events', data=weekly_counts, palette='Greens_d')\n",
    "plt.title('Number of Charging Events by Day of Week')\n",
    "plt.xlabel('Day of Week')\n",
    "plt.ylabel('Number of Charging Events')\n",
    "plt.show()"
   ]
  },
  {
   "cell_type": "code",
   "execution_count": null,
   "metadata": {},
   "outputs": [],
   "source": [
    "monthly_counts = df.groupby('month').size().reset_index(name='Charging Events')\n",
    "plt.figure(figsize=(12, 6))\n",
    "sns.barplot(x='month', y='Charging Events', data=monthly_counts, palette='Oranges_d')\n",
    "plt.title('Number of Charging Events by Month')\n",
    "plt.xlabel('Month')\n",
    "plt.ylabel('Number of Charging Events')\n",
    "plt.xticks(range(1, 13))\n",
    "plt.show()"
   ]
  },
  {
   "cell_type": "markdown",
   "metadata": {},
   "source": [
    "## B)"
   ]
  },
  {
   "cell_type": "markdown",
   "metadata": {},
   "source": [
    "### KPI 1: Energy delivered per hour\n",
    "This KPI is important because it provides a good overview of the hubs activity/how much energy is being utalized. \n",
    "It reflects the overall demand for charging services, which is directly tied to revenue (assuming a pricing model per kWh). Trends can be used for further forcasting the demand in the future. "
   ]
  },
  {
   "cell_type": "code",
   "execution_count": null,
   "metadata": {},
   "outputs": [],
   "source": [
    "df['year'] = df['connectionTime'].dt.year\n",
    "df['hour'] = df['connectionTime'].dt.floor('H')\n",
    "\n",
    "# Group data by year & hour for the hourly energy delivered\n",
    "yearly_data = df.groupby(['year', 'hour']).agg(\n",
    "    energy_delivered=('kWhDelivered', 'sum')\n",
    ").reset_index()\n",
    "\n",
    "# Plot energy delivered per hour for all years in rthe df\n",
    "fig, ax = plt.subplots(figsize=(14, 8))\n",
    "\n",
    "# Set colors for each year in df to make it visually differentiable\n",
    "colors = ['orange', 'blue', 'green', 'red']\n",
    "line_styles = ['-', '--', '-.', '-']\n",
    "\n",
    "# Loop through each year to plot\n",
    "for idx, year in enumerate(sorted(yearly_data['year'].unique())):\n",
    "    year_subset = yearly_data[yearly_data['year'] == year]\n",
    "    \n",
    "    # Plot hourly energy delivered\n",
    "    ax.plot(\n",
    "        year_subset['hour'], \n",
    "        year_subset['energy_delivered'], \n",
    "        marker='o', \n",
    "        linestyle=line_styles[idx % len(line_styles)], \n",
    "        color=colors[idx % len(colors)], \n",
    "        label=f'Hourly kWh Delivered ({year})'\n",
    "    )\n",
    "\n",
    "ax.set_title('Energy Delivered per Hour (All Years included)')\n",
    "ax.set_xlabel('Time')\n",
    "ax.set_ylabel('Energy Delivered (kWh)')\n",
    "ax.legend()\n",
    "ax.grid(True)\n",
    "\n",
    "plt.tight_layout()\n",
    "plt.show()\n"
   ]
  },
  {
   "cell_type": "markdown",
   "metadata": {},
   "source": [
    "#### Since the chart has too many data points included, it is necessary to split the chart into multiple ones for better interpretability. For each year, one chart is included. Additionally to the kWhDelivered, mean value is included for each day."
   ]
  },
  {
   "cell_type": "code",
   "execution_count": null,
   "metadata": {},
   "outputs": [],
   "source": [
    "df['day'] = df['connectionTime'].dt.date\n",
    "\n",
    "# Group data by year and hour for the hourly energy delivered\n",
    "yearly_data = df.groupby(['year', 'hour']).agg(\n",
    "    energy_delivered=('kWhDelivered', 'sum')\n",
    ").reset_index()\n",
    "\n",
    "# Calculate the mean kWh delivered/day\n",
    "daily_mean_data = df.groupby(['year', 'day']).agg(\n",
    "    daily_mean_kwh=('kWhDelivered', 'mean')\n",
    ").reset_index()\n",
    "daily_mean_data['day'] = pd.to_datetime(daily_mean_data['day'])\n",
    "\n",
    "# Plot energy delivered per hour with daily mean overlay for each year\n",
    "unique_years = yearly_data['year'].unique()\n",
    "fig, axes = plt.subplots(len(unique_years), 1, figsize=(12, 6 * len(unique_years)))\n",
    "\n",
    "for i, year in enumerate(unique_years):\n",
    "    # Data for current year\n",
    "    year_subset = yearly_data[yearly_data['year'] == year]\n",
    "    daily_mean_subset = daily_mean_data[daily_mean_data['year'] == year]\n",
    "    # Plot  hourly kWhdelivered\n",
    "    axes[i].plot(year_subset['hour'], year_subset['energy_delivered'], marker='o', color='orange', label='Hourly kWh Delivered')\n",
    "    # Plot the daily mean of kWhdelivered\n",
    "    axes[i].plot(daily_mean_subset['day'], daily_mean_subset['daily_mean_kwh'], color='blue', linewidth=2, label='Daily Mean kWh Delivered')\n",
    "    \n",
    "    axes[i].set_title(f'Energy Delivered per Hour with Daily Mean in {year}')\n",
    "    axes[i].set_xlabel('Time')\n",
    "    axes[i].set_ylabel('Energy Delivered (kWh)')\n",
    "    axes[i].grid(True)\n",
    "    axes[i].legend()\n",
    "\n",
    "plt.tight_layout()\n",
    "plt.show()\n"
   ]
  },
  {
   "cell_type": "markdown",
   "metadata": {},
   "source": [
    "#### Since there is anomaly in the data between August and mid November, further investigation is necessary. "
   ]
  },
  {
   "cell_type": "code",
   "execution_count": null,
   "metadata": {},
   "outputs": [],
   "source": [
    "# Filter data for the specified time range\n",
    "filtered_data = df[\n",
    "    (df['connectionTime'] >= '2020-08-04') & \n",
    "    (df['connectionTime'] <= '2020-11-17')\n",
    "]\n",
    "\n",
    "filtered_data['hour'] = filtered_data['connectionTime'].dt.floor('H')\n",
    "\n",
    "# Group data by hour for the filtered range\n",
    "filtered_hourly_data = filtered_data.groupby(['hour']).agg(\n",
    "    energy_delivered=('kWhDelivered', 'sum')\n",
    ").reset_index()\n",
    "\n",
    "# Plot the filtered data\n",
    "fig, ax = plt.subplots(figsize=(14, 8))\n",
    "\n",
    "# Plot hourly energy delivered\n",
    "ax.plot(\n",
    "    filtered_hourly_data['hour'], \n",
    "    filtered_hourly_data['energy_delivered'], \n",
    "    marker='o', \n",
    "    color='orange', \n",
    "    label='Hourly kWh Delivered'\n",
    ")\n",
    "ax.set_title('Energy Delivered per Hour (2020-08-01 to 2020-12-15)')\n",
    "ax.set_xlabel('Time')\n",
    "ax.set_ylabel('Energy Delivered (kWh)')\n",
    "ax.legend()\n",
    "ax.grid(True)\n",
    "\n",
    "plt.tight_layout()\n",
    "plt.show()"
   ]
  },
  {
   "cell_type": "code",
   "execution_count": null,
   "metadata": {},
   "outputs": [],
   "source": [
    "specific_range_data = filtered_data[\n",
    "    (filtered_data['connectionTime'] >= '2020-08-04') & \n",
    "    (filtered_data['connectionTime'] <= '2020-11-17')\n",
    "][['connectionTime', 'kWhDelivered']]\n",
    "zero_values_count = specific_range_data['kWhDelivered'].eq(0).sum()\n",
    "null_values_count = specific_range_data['kWhDelivered'].isnull().sum()\n",
    "\n",
    "\n",
    "\n",
    "average_kwh = specific_range_data['kWhDelivered'].mean()\n",
    "median_kwh = specific_range_data['kWhDelivered'].median()\n",
    "# Display the filtered kWhDelivered values\n",
    "average_kwh, median_kwh\n",
    "\n",
    "excluded_data = df[\n",
    "    (df['connectionTime'] < '2020-08-04') \n",
    "    | \n",
    "    (df['connectionTime'] > '2020-11-17')\n",
    "]\n",
    "\n",
    "# Calculate the average and median kWhDelivered for the excluded range\n",
    "average_kwh_excluded = excluded_data['kWhDelivered'].mean()\n",
    "median_kwh_excluded = excluded_data['kWhDelivered'].median()\n",
    "\n",
    "# Display the results\n",
    "average_kwh_excluded, median_kwh_excluded\n",
    "\n",
    "print(zero_values_count,null_values_count,average_kwh_excluded, median_kwh_excluded, average_kwh, median_kwh)"
   ]
  },
  {
   "cell_type": "markdown",
   "metadata": {},
   "source": [
    "## KPI 2: Users with/without User-Account over time"
   ]
  },
  {
   "cell_type": "markdown",
   "metadata": {},
   "source": [
    "This Metric helps to identify the change over time of Users that have an User Account. User with an account are more helpfull because with them, the manager can generate more data about typical user groups and how users charge their cars(When, How much, How often, Where,...) That creates user profiles that are very hepfull to improve the charging infractructure and improve the locations and measures of the charging stations, to improve the profitability and capacity utilization per station. With that the manager can decide if more efforts are important to higher the number of registrered users or if spefific happenings higher the proportion of registered users."
   ]
  },
  {
   "cell_type": "code",
   "execution_count": null,
   "metadata": {},
   "outputs": [],
   "source": [
    "# Create a new column to categorize userID\n",
    "df['user_category'] = df['userID'].apply(lambda x: 'Users without Account' if x == -1 else 'Users with Account')\n",
    "\n",
    "# Group by month and user category to get the count of connections\n",
    "monthly_user_counts = df.groupby([df['connectionTime'].dt.to_period('M'), 'user_category']).size().reset_index(name='Connections')\n",
    "\n",
    "# Pivot the data to have user categories as columns\n",
    "monthly_user_counts_pivot = monthly_user_counts.pivot(index='connectionTime', columns='user_category', values='Connections').fillna(0)\n",
    "\n",
    "# Plot the data\n",
    "monthly_user_counts_pivot.plot(kind='bar', stacked=True, figsize=(14, 8), color=['red', 'blue'])\n",
    "plt.title('Total Number of Connections Monthly')\n",
    "plt.xlabel('Month')\n",
    "plt.ylabel('Number of Connections')\n",
    "plt.legend(title='User Category')\n",
    "plt.show()"
   ]
  },
  {
   "cell_type": "markdown",
   "metadata": {},
   "source": [
    "# Observation regarding missing kWhDelivered \n",
    "-The data between 04.08.2020 and 17.11.2020 has an average kWhDelivered of nan and mean of nan, while it is 11.643983837361155 and 9.029 on the whole dataset excluding this time range. Further investigation on why there are no values for kWhDelivered are available is necessary. "
   ]
  },
  {
   "cell_type": "code",
   "execution_count": null,
   "metadata": {},
   "outputs": [],
   "source": [
    "# Group by date to count the number of data points per day\n",
    "data_points_per_day = df.groupby(df['connectionTime'].dt.date).size().reset_index(name='data_points')\n",
    "\n",
    "# Plot the number of data points over time\n",
    "fig, ax = plt.subplots(figsize=(14, 8))\n",
    "\n",
    "ax.plot(\n",
    "    data_points_per_day['connectionTime'], \n",
    "    data_points_per_day['data_points'], \n",
    "    marker='o', \n",
    "    linestyle='-', \n",
    "    color='blue',\n",
    "    label='Number of Data Points'\n",
    ")\n",
    "\n",
    "# Chart labels, legend, and grid\n",
    "ax.set_title('Number of Data Points per Day')\n",
    "ax.set_xlabel('Date')\n",
    "ax.set_ylabel('Number of Data Points')\n",
    "ax.legend()\n",
    "ax.grid(True)\n",
    "\n",
    "plt.tight_layout()\n",
    "plt.show()"
   ]
  },
  {
   "cell_type": "code",
   "execution_count": null,
   "metadata": {},
   "outputs": [],
   "source": [
    "# Verify if any data exists between 2020-08-04 and 2020-11-17\n",
    "missing_period_data = df[\n",
    "    (df['connectionTime'] >= '2020-08-04') & \n",
    "    (df['connectionTime'] <= '2020-11-17')\n",
    "]\n",
    "\n",
    "# Count the number of records in this range\n",
    "missing_period_count = missing_period_data.shape[0]\n",
    "\n",
    "# Display the result\n",
    "print(missing_period_count)"
   ]
  },
  {
   "cell_type": "markdown",
   "metadata": {},
   "source": [
    "### Observation regarding missing data: \n",
    "There are no data points between the 04.08.2020 and 17.11.2020. There could be a major reason: \n",
    "COVID-19 came with travel restrictions, lockdown and layoffs led to a radical decrease in mobility. \n",
    "This could have led to the closure of multiple stations\n",
    "### Observations regarding the kWh Delivered over the whole timespan of the dataset\n",
    "#### 2018\n",
    "The energy delivered starts relativly low. The gradual increase over time can have these reasons: \n",
    "1. Increased demand because of more users having an EV \n",
    "2. Increased awareness of available charging stations \n",
    "#### 2019\n",
    "There is a significant growth in delivered energy compared to 2018. A noticable peak is in the July and August, which aligns with the increased number of charging events detected in task 2a). \n",
    "#### 2020 \n",
    "A hard decline is noticable in this year, noticably strong after the early year. The reason for that could be COVID-19.\n",
    "#### 2021\n",
    "Energy delivered begins to rebound, showing growth over time. Although delivery levels remain lower than in 2019, there is a upward trend, indicating:\n",
    "1. Recovery of demand post-pandemic\n",
    "2. Gradual return of regular charging behavior\n",
    "3. Increasing adoption of electric vehicles"
   ]
  },
  {
   "cell_type": "markdown",
   "metadata": {},
   "source": [
    "## KPI 3: Utilization Rate\n",
    "\n",
    "The utilization rate measures how often the charging station is in use versus idle. This KPI is crucial for assessing the demand for charging services and ensuring operational efficiency. A high utilization rate indicates that the charging station is in high demand, suggesting the need to maintain or potentially expand charging capacity in the area. Conversely, a persistently low utilization rate might highlight inefficiencies or suboptimal placement of the charging station. By tracking the utilization rate, the operator can monitor demand patterns, infrastructure limitations, and user behavior.\n",
    "\n",
    "$$\n",
    "\\text{Utilization Rate} = \\frac{\\text{time charging stations were in use}}{\\text{total time available for use}}\n",
    "$$"
   ]
  },
  {
   "cell_type": "code",
   "execution_count": 101,
   "metadata": {},
   "outputs": [],
   "source": [
    "# Calculates the utilization rate of charging stations for a given date\n",
    "def calculate_utilization_rate(df, date):\n",
    "    ef = df[df['connectionTime'].dt.date == pd.to_datetime(date).date()]\n",
    "    total_stations = df['stationID'].nunique()\n",
    "    time_stations_open_a_day = 24\n",
    "    total_available_time = total_stations * time_stations_open_a_day\n",
    "    total_occupied_time_per_station = ef.groupby('stationID')['session_duration'].sum()\n",
    "    total_occupied_time_per_station = total_occupied_time_per_station.apply(lambda x: min(x, 24))\n",
    "    total_occupied_time = total_occupied_time_per_station.sum()\n",
    "    utilization_rate = (total_occupied_time / total_available_time) * 100\n",
    "    return utilization_rate\n",
    "\n",
    "# Calculate utilization rate for each day\n",
    "def calculate_daily_utilization_rate(df):\n",
    "    daily_utilization = []\n",
    "    unique_dates = df['connectionTime'].dt.date.unique()\n",
    "    \n",
    "    for date in unique_dates:\n",
    "        utilization_rate = calculate_utilization_rate(df, date)\n",
    "        daily_utilization.append({'date': date, 'utilization_rate': utilization_rate})\n",
    "    \n",
    "    return pd.DataFrame(daily_utilization)"
   ]
  },
  {
   "cell_type": "code",
   "execution_count": null,
   "metadata": {},
   "outputs": [],
   "source": [
    "daily_utilization_df = calculate_daily_utilization_rate(df)\n",
    "daily_utilization_df.set_index('date', inplace=True)\n",
    "\n",
    "plt.figure(figsize=(12, 6))\n",
    "daily_utilization_df['utilization_rate'].plot(kind='line', color='green')\n",
    "plt.title(\"Daily Utilization Rate of Charging Stations\")\n",
    "plt.xlabel(\"Date\")\n",
    "plt.ylabel(\"Utilization Rate (%)\")\n",
    "plt.grid(True)\n",
    "plt.show()\n",
    "\n",
    "daily_utilization_2019 = calculate_daily_utilization_rate(df[(df['connectionTime'].dt.year == 2019) & (df['connectionTime'].dt.month == 1)])\n",
    "daily_utilization_2019.set_index('date', inplace=True)\n",
    "\n",
    "plt.figure(figsize=(12, 6))\n",
    "daily_utilization_2019['utilization_rate'].plot(kind='line', color='green')\n",
    "plt.title(\"Daily Utilization Rate of Charging Stations 2019 in January\")\n",
    "plt.xlabel(\"Date\")\n",
    "plt.ylabel(\"Utilization Rate (%)\")\n",
    "plt.grid(True)\n",
    "plt.show()"
   ]
  },
  {
   "cell_type": "markdown",
   "metadata": {},
   "source": [
    "The daily utilization of the charging station shows a cyclical pattern that can be seen very clearly if you zoom in on a month (e.g. January 2019). The utilization rate often peaks and then drops to zero. This behavior corresponds to the typical usage on weekdays and the lower activity on weekends."
   ]
  },
  {
   "cell_type": "markdown",
   "metadata": {},
   "source": [
    "### Utilization Rate per hours a day\n",
    "\n",
    "The hourly utilization rate provides a detailed view of when the charging station is at capacity and when not. With this metric the operator can identify peak usage times which could help to manage capacity during these hours. High hourly utilization can create spikes in energy demand. Therefore this information could help grid operators to prepare for load fluctuations."
   ]
  },
  {
   "cell_type": "code",
   "execution_count": 104,
   "metadata": {},
   "outputs": [],
   "source": [
    "# Calculates the utilization rate of charging stations for a given date per hour\n",
    "def calculate_utilization_rate_hourly(data, date):\n",
    "    daily_data = data[data['connectionTime'].dt.date == pd.to_datetime(date).date()]\n",
    "    total_stations = data['stationID'].nunique()\n",
    "\n",
    "    hourly_usage_count = [0] * 24\n",
    "\n",
    "    # iterate over daily_data\n",
    "    for _, row in daily_data.iterrows():\n",
    "        start_hour = row['connectionTime'].hour\n",
    "        end_hour = row['disconnectTime'].hour\n",
    "        for i in range(start_hour, end_hour):\n",
    "            hourly_usage_count[i] += 1\n",
    "\n",
    "    # calculate utilization rate\n",
    "    hourly_utilization_rate = [(count / total_stations) * 100 for count in hourly_usage_count]\n",
    "\n",
    "    return hourly_utilization_rate\n",
    "\n",
    "# calculate the average utilization rate per hour\n",
    "def calculate_avg_hourly_utilization_rate(data):\n",
    "    hourly_utilization = []\n",
    "    unique_dates = data['connectionTime'].dt.date.unique()\n",
    "    \n",
    "    for date in unique_dates:\n",
    "        utilization_rate = calculate_utilization_rate_hourly(data, date)\n",
    "        hourly_utilization.append(utilization_rate)\n",
    "    \n",
    "    hourly_utilization_df = pd.DataFrame(hourly_utilization, columns=range(24))\n",
    "    avg_hourly_utilization = hourly_utilization_df.mean()\n",
    "    \n",
    "    return avg_hourly_utilization"
   ]
  },
  {
   "cell_type": "code",
   "execution_count": null,
   "metadata": {},
   "outputs": [],
   "source": [
    "# Calculate hourly utilization rate for a specific date\n",
    "date = '2019-07-02' \n",
    "hourly_utilization_rate = calculate_utilization_rate_hourly(df, date)\n",
    "\n",
    "plt.figure(figsize=(12, 6))\n",
    "plt.plot(range(24), hourly_utilization_rate, linestyle='-', color='b')\n",
    "plt.title(f'Hourly Utilization Rate of Charging Stations on {date}')\n",
    "plt.xlabel('Hour of the Day')\n",
    "plt.ylabel('Utilization Rate (%)')\n",
    "plt.xticks(range(0, 24))\n",
    "plt.grid(True)\n",
    "plt.ylim(0, 100)\n",
    "plt.show()\n",
    "\n",
    "hourly_utilization_rate_avg_year = calculate_avg_hourly_utilization_rate(df)\n",
    "\n",
    "plt.figure(figsize=(12, 6))\n",
    "plt.plot(range(24), hourly_utilization_rate_avg_year, linestyle='-', color='b')\n",
    "plt.title(f'Hourly Utilization Rate of Charging Stations on Average')\n",
    "plt.xlabel('Hour of the Day')\n",
    "plt.ylabel('Utilization Rate (%)')\n",
    "plt.xticks(range(0, 24))\n",
    "plt.grid(True)\n",
    "plt.ylim(0, 100)\n",
    "plt.show()"
   ]
  },
  {
   "cell_type": "markdown",
   "metadata": {},
   "source": [
    "When comparing a specific date with an exceptionally high utilization rate (02.07.2019) with the average utilization rate across all observations, we can definitely see a peak in usage in the afternoon. The specific day's data shows a peak between 14:00 and 18:00, while the average data shows a more consistent pattern with a similar peak time but less extreme variance. this suggests that while there are consistent peak times, individual days may vary. The consistently low usage during off-peak hours in both charts indicates an opportunity to optimize the charging infrastructure."
   ]
  },
  {
   "cell_type": "markdown",
   "metadata": {},
   "source": [
    "## C)"
   ]
  },
  {
   "cell_type": "code",
   "execution_count": null,
   "metadata": {},
   "outputs": [],
   "source": [
    "# Filter the dataframe for siteID=1 and siteID=2\n",
    "df_site1 = df[df['siteID'] == 1]\n",
    "df_site2 = df[df['siteID'] == 2]\n",
    "\n",
    "plt.figure(figsize=(12, 6))\n",
    "sns.barplot(x='hour', y='Charging Events', data=df_site1.groupby('hour').size().reset_index(name='Charging Events'), palette='Blues_d')\n",
    "plt.title('Number of Charging Events by Hour of Day (Site 1)')\n",
    "plt.xlabel('Hour of Day')\n",
    "plt.ylabel('Number of Charging Events')\n",
    "plt.xticks(range(0, 24))\n",
    "plt.show()\n",
    "\n",
    "plt.figure(figsize=(12, 6))\n",
    "sns.barplot(x='hour', y='Charging Events', data=df_site2.groupby('hour').size().reset_index(name='Charging Events'), palette='Greens_d')\n",
    "plt.title('Number of Charging Events by Hour of Day (Site 2)')\n",
    "plt.xlabel('Hour of Day')\n",
    "plt.ylabel('Number of Charging Events')\n",
    "plt.xticks(range(0, 24))\n",
    "plt.show()"
   ]
  },
  {
   "cell_type": "code",
   "execution_count": null,
   "metadata": {},
   "outputs": [],
   "source": [
    "order = ['Monday', 'Tuesday', 'Wednesday', 'Thursday', 'Friday', 'Saturday', 'Sunday']\n",
    "weekly_counts['dayName'] = pd.Categorical(weekly_counts['dayName'], categories=order, ordered=True)\n",
    "weekly_counts = weekly_counts.sort_values('dayName')\n",
    "\n",
    "# Group by dayName and count the number of charging events\n",
    "weekly_counts_site1 = df_site1.groupby('dayName').size().reset_index(name='Charging Events')\n",
    "\n",
    "# Ensure the days are in the correct order\n",
    "weekly_counts_site1['dayName'] = pd.Categorical(weekly_counts_site1['dayName'], categories=order, ordered=True)\n",
    "weekly_counts_site1 = weekly_counts_site1.sort_values('dayName')\n",
    "\n",
    "# Plot the number of charging events by day of week for siteID=1\n",
    "plt.figure(figsize=(10, 6))\n",
    "sns.barplot(x='dayName', y='Charging Events', data=weekly_counts_site1, palette='Blues_d')\n",
    "plt.title('Number of Charging Events by Day of Week (Site 1)')\n",
    "plt.xlabel('Day of Week')\n",
    "plt.ylabel('Number of Charging Events')\n",
    "plt.show()\n",
    "\n",
    "# Group by dayName and count the number of charging events for siteID=2\n",
    "weekly_counts_site2 = df_site2.groupby('dayName').size().reset_index(name='Charging Events')\n",
    "\n",
    "# Ensure the days are in the correct order\n",
    "weekly_counts_site2['dayName'] = pd.Categorical(weekly_counts_site2['dayName'], categories=order, ordered=True)\n",
    "weekly_counts_site2 = weekly_counts_site2.sort_values('dayName')\n",
    "\n",
    "# Plot the number of charging events by day of week for siteID=2\n",
    "plt.figure(figsize=(10, 6))\n",
    "sns.barplot(x='dayName', y='Charging Events', data=weekly_counts_site2, palette='Greens_d')\n",
    "plt.title('Number of Charging Events by Day of Week (Site 2)')\n",
    "plt.xlabel('Day of Week')\n",
    "plt.ylabel('Number of Charging Events')\n",
    "plt.show()\n"
   ]
  },
  {
   "cell_type": "code",
   "execution_count": null,
   "metadata": {},
   "outputs": [],
   "source": []
  }
 ],
 "metadata": {
  "kernelspec": {
   "display_name": "base",
   "language": "python",
   "name": "python3"
  },
  "language_info": {
   "codemirror_mode": {
    "name": "ipython",
    "version": 3
   },
   "file_extension": ".py",
   "mimetype": "text/x-python",
   "name": "python",
   "nbconvert_exporter": "python",
   "pygments_lexer": "ipython3",
   "version": "3.11.5"
  }
 },
 "nbformat": 4,
 "nbformat_minor": 2
}
